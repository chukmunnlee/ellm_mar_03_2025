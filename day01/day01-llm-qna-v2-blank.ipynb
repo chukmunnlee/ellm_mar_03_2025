{
 "cells": [
  {
   "cell_type": "markdown",
   "metadata": {},
   "source": [
    "# Workshop 1 - Question and Answers\n",
    "In this workshop, you will learning how to write prompts and feed them into LLMs. You\n",
    "will also be learning how to use different prompt techniques to improve the response\n",
    "from the LLM.\n",
    "\n",
    "## Loading and Exploring the Dataset\n",
    "The workshop will be using [`facebook/ExploreToM`](https://huggingface.co/datasets/facebook/ExploreToM) dataset from [HuggingFace](https://huggingface.co)."
   ]
  },
  {
   "cell_type": "code",
   "execution_count": null,
   "metadata": {},
   "outputs": [],
   "source": [
    "%pip install datasets transformers torch torchdata "
   ]
  },
  {
   "cell_type": "code",
   "execution_count": 4,
   "metadata": {},
   "outputs": [],
   "source": [
    "# TODO: Load the following libraries: datasets\n",
    "from datasets import load_dataset"
   ]
  },
  {
   "cell_type": "code",
   "execution_count": 5,
   "metadata": {},
   "outputs": [],
   "source": [
    "# Dataset name\n",
    "dataset_name = \"facebook/ExploreToM\""
   ]
  },
  {
   "cell_type": "code",
   "execution_count": 8,
   "metadata": {},
   "outputs": [
    {
     "name": "stdout",
     "output_type": "stream",
     "text": [
      "{'train': (13309, 18)}\n",
      "dict_keys(['train'])\n",
      "{'story_structure': Value(dtype='string', id=None), 'infilled_story': Value(dtype='string', id=None), 'question': Value(dtype='string', id=None), 'expected_answer': Value(dtype='string', id=None), 'qprop=params': Value(dtype='string', id=None), 'qprop=nth_order': Value(dtype='int64', id=None), 'qprop=non_unique_mental_state': Value(dtype='bool', id=None), 'sprop=is_false_belief_story_1st': Value(dtype='bool', id=None), 'sprop=is_false_belief_story_1st_and_2nd': Value(dtype='bool', id=None), 'sprop=story_accuracy_1st_raw': Value(dtype='float64', id=None), 'sprop=story_accuracy_1st_infilled': Value(dtype='float64', id=None), 'sprop=global_idx': Value(dtype='int64', id=None), 'param=story_type': Value(dtype='string', id=None), 'param=num_stories_total': Value(dtype='int64', id=None), 'param=max_sentences': Value(dtype='int64', id=None), 'param=num_people': Value(dtype='int64', id=None), 'param=num_moves': Value(dtype='int64', id=None), 'param=num_rooms': Value(dtype='int64', id=None)}\n",
      "{'story_structure': 'Leslie entered the main tent. Leslie left the main tent. Isabella entered the storage trailer. Isabella moved the stuffed rabbit to the wooden chest, which is also located in the storage trailer. Leslie entered the main tent. Isabella moved the stuffed rabbit to the main tent, leaving the wooden chest in its original location. Isabella told out loud about the festival marketing strategies. Isabella told privately to Colton that Leslie is in the main tent. While this action was happening, Leslie witnessed this action in secret (and only this action).', 'infilled_story': \"The warm glow of string lights illuminated the vibrant colors of the festival grounds, casting a lively atmosphere over rows of booths and attractions. A faint scent of popcorn and sugar wafted through the air, mingling with the distant sounds of laughter and music, as the night's festivities had just begun to unfold. Leslie slipped unnoticed into the main tent, the sounds of the festival outside momentarily muffled by the canvas walls. Leslie slid past the closing canvas flaps, merging with the lively crowd outside, their bright ringmaster attire momentarily camouflaged amidst swirling festivalgoers. The storage trailer stood quietly behind the booths, its door slowly creaking open to admit Isabella. As she entered, the sounds of laughter and music grew duller, replaced by the musty scent of stored supplies and the faint rustle of fabric. As Isabella rearranged the storage trailer's contents, the stuffed rabbit found a new resting place at the bottom of the old wooden chest, its glassy eyes glinting faintly in the dim light. Leslie was swallowed by the main tent's dimly lit interior, briefly allowing the boisterous atmosphere to conceal their movements, before reemerging into the night's festivities outside, ringmaster attire now blending seamlessly into the swirling crowds. As Isabella transferred the stuffed rabbit to the main tent, the lively chatter and song of the festival's attendees momentarily drowned out the sound of her footsteps, leaving the storage trailer - and its wooden chest - quietly behind. The warmth of her voice mingled with the sound of laughter and music, carrying Isabella's thoughts on the festival's marketing prowess out across the grounds, a wafting trail of insight left in her wake. Isabella mouthed a message to Colton, who lingered at the edge of the crowd, her eyes locking briefly onto his as she mouthed, 'He's back in the main tent,' and Colton's eyes flickered, acknowledging the secret message before he left to reposition himself in the rear of the main tent.\", 'question': \"What does Isabella think about Colton's belief on festival marketing strategies? (knows about it / does not know about it)\", 'expected_answer': 'does not know about it', 'qprop=params': \"(['Isabella', 'Colton'], 'festival marketing strategies', '<knowledge>-True')\", 'qprop=nth_order': 2, 'qprop=non_unique_mental_state': True, 'sprop=is_false_belief_story_1st': True, 'sprop=is_false_belief_story_1st_and_2nd': True, 'sprop=story_accuracy_1st_raw': 0.666666666666667, 'sprop=story_accuracy_1st_infilled': 0.666666666666667, 'sprop=global_idx': 7, 'param=story_type': 'all+asymmetric', 'param=num_stories_total': 10, 'param=max_sentences': 15, 'param=num_people': 3, 'param=num_moves': 3, 'param=num_rooms': 2}\n",
      "\n",
      "-----------------------\n",
      "\n",
      "story_structure: Leslie entered the main tent. Leslie left the main tent. Isabella entered the storage trailer. Isabella moved the stuffed rabbit to the wooden chest, which is also located in the storage trailer. Leslie entered the main tent. Isabella moved the stuffed rabbit to the main tent, leaving the wooden chest in its original location. Isabella told out loud about the festival marketing strategies. Isabella told privately to Colton that Leslie is in the main tent. While this action was happening, Leslie witnessed this action in secret (and only this action).\n",
      "infilled_story: The warm glow of string lights illuminated the vibrant colors of the festival grounds, casting a lively atmosphere over rows of booths and attractions. A faint scent of popcorn and sugar wafted through the air, mingling with the distant sounds of laughter and music, as the night's festivities had just begun to unfold. Leslie slipped unnoticed into the main tent, the sounds of the festival outside momentarily muffled by the canvas walls. Leslie slid past the closing canvas flaps, merging with the lively crowd outside, their bright ringmaster attire momentarily camouflaged amidst swirling festivalgoers. The storage trailer stood quietly behind the booths, its door slowly creaking open to admit Isabella. As she entered, the sounds of laughter and music grew duller, replaced by the musty scent of stored supplies and the faint rustle of fabric. As Isabella rearranged the storage trailer's contents, the stuffed rabbit found a new resting place at the bottom of the old wooden chest, its glassy eyes glinting faintly in the dim light. Leslie was swallowed by the main tent's dimly lit interior, briefly allowing the boisterous atmosphere to conceal their movements, before reemerging into the night's festivities outside, ringmaster attire now blending seamlessly into the swirling crowds. As Isabella transferred the stuffed rabbit to the main tent, the lively chatter and song of the festival's attendees momentarily drowned out the sound of her footsteps, leaving the storage trailer - and its wooden chest - quietly behind. The warmth of her voice mingled with the sound of laughter and music, carrying Isabella's thoughts on the festival's marketing prowess out across the grounds, a wafting trail of insight left in her wake. Isabella mouthed a message to Colton, who lingered at the edge of the crowd, her eyes locking briefly onto his as she mouthed, 'He's back in the main tent,' and Colton's eyes flickered, acknowledging the secret message before he left to reposition himself in the rear of the main tent.\n",
      "question: What does Isabella think about Colton's belief on festival marketing strategies? (knows about it / does not know about it)\n",
      "expected_answer: does not know about it\n",
      "qprop=params: (['Isabella', 'Colton'], 'festival marketing strategies', '<knowledge>-True')\n",
      "qprop=nth_order: 2\n",
      "qprop=non_unique_mental_state: True\n",
      "sprop=is_false_belief_story_1st: True\n",
      "sprop=is_false_belief_story_1st_and_2nd: True\n",
      "sprop=story_accuracy_1st_raw: 0.666666666666667\n",
      "sprop=story_accuracy_1st_infilled: 0.666666666666667\n",
      "sprop=global_idx: 7\n",
      "param=story_type: all+asymmetric\n",
      "param=num_stories_total: 10\n",
      "param=max_sentences: 15\n",
      "param=num_people: 3\n",
      "param=num_moves: 3\n",
      "param=num_rooms: 2\n"
     ]
    }
   ],
   "source": [
    "# TODO: load and explore the dataset\n",
    "dataset = load_dataset(dataset_name)\n",
    "\n",
    "# TODO: number of rows in the dataset\n",
    "print(dataset.shape)\n",
    "\n",
    "# TODO: Keys in the dataset\n",
    "print(dataset.keys())\n",
    "\n",
    "# TODO: Feature names\n",
    "print(dataset['train'].features)\n",
    "\n",
    "# TODO: Display a single row\n",
    "idx = 100\n",
    "print(dataset['train'][idx])\n",
    "\n",
    "print('\\n-----------------------\\n')\n",
    "\n",
    "# print row in key/value pair\n",
    "for k, v in dataset['train'][idx].items():\n",
    "   print(f'{k}: {v}')\n"
   ]
  },
  {
   "cell_type": "code",
   "execution_count": 10,
   "metadata": {},
   "outputs": [],
   "source": [
    "# TODO: import pipeline\n",
    "from transformers import pipeline"
   ]
  },
  {
   "cell_type": "markdown",
   "metadata": {},
   "source": [
    "## `pipeline`\n",
    "[`pipeline`](https://huggingface.co/docs/transformers/en/main_classes/pipelines) is an easy to use API to perform inferencing. It provides a wrapper for task-specific pipelines and abstracts most of the complexity by allowing you to focus on the model and the task. \n",
    "\n",
    "You can use `pipeline` to perform summarisation, image classification, audio generation, etc. You can find an exhaustive list of `pipeline` task [here](https://huggingface.co/docs/transformers/en/main_classes/pipelines#transformers.pipeline.task)."
   ]
  },
  {
   "cell_type": "code",
   "execution_count": null,
   "metadata": {},
   "outputs": [
    {
     "name": "stderr",
     "output_type": "stream",
     "text": [
      "No model was supplied, defaulted to distilbert/distilbert-base-cased-distilled-squad and revision 564e9b5 (https://huggingface.co/distilbert/distilbert-base-cased-distilled-squad).\n",
      "Using a pipeline without specifying a model name and revision in production is not recommended.\n"
     ]
    },
    {
     "data": {
      "application/vnd.jupyter.widget-view+json": {
       "model_id": "841da5a9d3744edf9254026cc48e4325",
       "version_major": 2,
       "version_minor": 0
      },
      "text/plain": [
       "config.json:   0%|          | 0.00/473 [00:00<?, ?B/s]"
      ]
     },
     "metadata": {},
     "output_type": "display_data"
    },
    {
     "data": {
      "application/vnd.jupyter.widget-view+json": {
       "model_id": "b439b511b7a84c0c81f4406e8bd8997c",
       "version_major": 2,
       "version_minor": 0
      },
      "text/plain": [
       "model.safetensors:   0%|          | 0.00/261M [00:00<?, ?B/s]"
      ]
     },
     "metadata": {},
     "output_type": "display_data"
    },
    {
     "data": {
      "application/vnd.jupyter.widget-view+json": {
       "model_id": "3f3d67e0c4ce49e6975e4e1e845687dd",
       "version_major": 2,
       "version_minor": 0
      },
      "text/plain": [
       "tokenizer_config.json:   0%|          | 0.00/49.0 [00:00<?, ?B/s]"
      ]
     },
     "metadata": {},
     "output_type": "display_data"
    },
    {
     "data": {
      "application/vnd.jupyter.widget-view+json": {
       "model_id": "798e508013ef45f29764448a4ff06a94",
       "version_major": 2,
       "version_minor": 0
      },
      "text/plain": [
       "vocab.txt:   0%|          | 0.00/213k [00:00<?, ?B/s]"
      ]
     },
     "metadata": {},
     "output_type": "display_data"
    },
    {
     "data": {
      "application/vnd.jupyter.widget-view+json": {
       "model_id": "b71948f4280e4a7ab0039aea4e96b178",
       "version_major": 2,
       "version_minor": 0
      },
      "text/plain": [
       "tokenizer.json:   0%|          | 0.00/436k [00:00<?, ?B/s]"
      ]
     },
     "metadata": {},
     "output_type": "display_data"
    },
    {
     "name": "stderr",
     "output_type": "stream",
     "text": [
      "Device set to use cpu\n"
     ]
    }
   ],
   "source": [
    "# TODO: Summarise the text with the pipeline's default model\n",
    "\n",
    "# Create a pipeline\n",
    "qna = pipeline('question-answering')\n"
   ]
  },
  {
   "cell_type": "code",
   "execution_count": 18,
   "metadata": {},
   "outputs": [
    {
     "name": "stdout",
     "output_type": "stream",
     "text": [
      "context: The asymmetry of costs between drone-based attacks and conventional countermeasures was also vividly exemplified when Houthi fighters fired drones at US warships off the coast of Yemen, said Dr Ng.\n",
      "question: Was the US warships at the coast of Yemen?\n",
      "geneated answer: {'score': 0.08029749989509583, 'start': 162, 'end': 184, 'answer': 'off the coast of Yemen'}\n",
      "expected answer: leather satchel\n"
     ]
    }
   ],
   "source": [
    "idx = 30\n",
    "context = dataset['train'][idx]['story_structure']\n",
    "context = dataset['train'][idx]['infilled_story']\n",
    "question = dataset['train'][idx]['question']\n",
    "expected_answer = dataset['train'][idx]['expected_answer']\n",
    "\n",
    "context = \"The asymmetry of costs between drone-based attacks and conventional countermeasures was also vividly exemplified when Houthi fighters fired drones at US warships off the coast of Yemen, said Dr Ng.\"\n",
    "question = \"Was the US warships at the coast of Yemen?\"\n",
    "\n",
    "# Ask the question and context\n",
    "result = qna(question=question, context=context)\n",
    "\n",
    "print(f'context: {context}')\n",
    "print(f'question: {question}')\n",
    "print(f'geneated answer: {result}')\n",
    "print(f'expected answer: {expected_answer}')"
   ]
  },
  {
   "cell_type": "markdown",
   "metadata": {},
   "source": [
    "## Manual Inference - Question and Answer\n",
    "In this section, we will look at what `pipeline` does under the hood to perform its inference. This will give us a better understanding of the major steps involved."
   ]
  },
  {
   "cell_type": "code",
   "execution_count": 19,
   "metadata": {},
   "outputs": [],
   "source": [
    "# TODO: load tokenizer\n",
    "from transformers import AutoTokenizer"
   ]
  },
  {
   "cell_type": "markdown",
   "metadata": {},
   "source": [
    "## DistilBERT base cased distilled SQuAD\n",
    "DistilBERT is a small, fast, cheap and light Transformer model trained by distilling BERT base. More details [here](https://huggingface.co/distilbert/distilbert-base-cased-distilled-squad)."
   ]
  },
  {
   "cell_type": "code",
   "execution_count": 20,
   "metadata": {},
   "outputs": [],
   "source": [
    "model_name = \"distilbert/distilbert-base-cased-distilled-squad\""
   ]
  },
  {
   "cell_type": "code",
   "execution_count": 21,
   "metadata": {},
   "outputs": [],
   "source": [
    "# TODO: Create a tokenizer\n",
    "tokenizer = AutoTokenizer.from_pretrained(model_name)\n"
   ]
  },
  {
   "cell_type": "code",
   "execution_count": 23,
   "metadata": {},
   "outputs": [
    {
     "name": "stdout",
     "output_type": "stream",
     "text": [
      "{'input_ids': tensor([[  101,  3613,  3058, 17594,  5152,  1166,  1103, 16688,  3676,   102]]), 'attention_mask': tensor([[1, 1, 1, 1, 1, 1, 1, 1, 1, 1]])}\n"
     ]
    }
   ],
   "source": [
    "# TODO: Encode text\n",
    "text = 'hello, world'\n",
    "text = 'quick brown fox jump over the lazy dog'\n",
    "\n",
    "encoded = tokenizer(text, return_tensors='pt')\n",
    "\n",
    "print(encoded)\n"
   ]
  },
  {
   "cell_type": "code",
   "execution_count": 24,
   "metadata": {},
   "outputs": [
    {
     "name": "stdout",
     "output_type": "stream",
     "text": [
      "{'input_ids': tensor([[  101, 19082,   117,  1362,   102,     0,     0,     0,     0,     0],\n",
      "        [  101,  1992,  1602, 15430, 24752,  1602,   171,  2858, 13976,   102],\n",
      "        [  101,  3613,  3058, 17594,  5152,  1166,  1103, 16688,  3676,   102]]), 'attention_mask': tensor([[1, 1, 1, 1, 1, 0, 0, 0, 0, 0],\n",
      "        [1, 1, 1, 1, 1, 1, 1, 1, 1, 1],\n",
      "        [1, 1, 1, 1, 1, 1, 1, 1, 1, 1]])}\n"
     ]
    }
   ],
   "source": [
    "# TODO: Encoding multiple texts\n",
    "texts = [\n",
    "   'hello, world',\n",
    "   'big black bug bleed black blodd',\n",
    "   'quick brown fox jump over the lazy dog'\n",
    "]\n",
    "\n",
    "encoded = tokenizer(texts, padding=True, return_tensors='pt')\n",
    "\n",
    "print(encoded)"
   ]
  },
  {
   "cell_type": "code",
   "execution_count": 31,
   "metadata": {},
   "outputs": [
    {
     "name": "stdout",
     "output_type": "stream",
     "text": [
      "tensor([  101, 19082,   117,  1362,   102,     0,     0,     0,     0,     0])\n",
      "hello, world\n"
     ]
    }
   ],
   "source": [
    "# TODO: Decode text\n",
    "text_enc = encoded['input_ids'][0]\n",
    "print(text_enc)\n",
    "\n",
    "text_dec = tokenizer.decode(text_enc)\n",
    "# Remove all special tokens\n",
    "text_dec = tokenizer.decode(text_enc, skip_special_tokens=True)\n",
    "\n",
    "print(text_dec)"
   ]
  },
  {
   "cell_type": "markdown",
   "metadata": {},
   "source": [
    "## Working with LLMs\n",
    "Create and instance of the Large Language Model (LLM). We will then create a simple\n",
    "prompt, tokenize the prompt and feed the tokenized prompt to the LLM. The response\n",
    "from the LLM will be decoded to human friendly text."
   ]
  },
  {
   "cell_type": "code",
   "execution_count": 28,
   "metadata": {},
   "outputs": [],
   "source": [
    "# TODO: Load libraries\n",
    "from transformers import AutoModelForQuestionAnswering\n",
    "import torch\n"
   ]
  },
  {
   "cell_type": "code",
   "execution_count": 29,
   "metadata": {},
   "outputs": [],
   "source": [
    "# TODO: Load question answer model\n",
    "model = AutoModelForQuestionAnswering.from_pretrained(model_name)\n"
   ]
  },
  {
   "cell_type": "code",
   "execution_count": 30,
   "metadata": {},
   "outputs": [],
   "source": [
    "# TODO: Encode context and question\n",
    "idx = 40\n",
    "context = dataset['train'][idx]['story_structure']\n",
    "question = dataset['train'][idx]['question']\n",
    "expected_answer = dataset['train'][idx]['expected_answer']\n"
   ]
  },
  {
   "cell_type": "code",
   "execution_count": 41,
   "metadata": {},
   "outputs": [
    {
     "name": "stdout",
     "output_type": "stream",
     "text": [
      "{'input_ids': tensor([[  101, 23929,  8495,  1389,  2242,  1103,  1707,  1395,   119, 23929,\n",
      "          8495,  1389,  1427,  1103,  5444,  1106,  1103, 22823,  2884,   117,\n",
      "          1134,  1110,  1145,  1388,  1107,  1103,  1707,  1395,   119, 23929,\n",
      "          8495,  1389,  1427,  1103,  5444,  1106,  1103,  5439,  2068, 20492,\n",
      "           117,  1134,  1110,  1145,  1388,  1107,  1103,  1707,  1395,   119,\n",
      "          1799,  1142,  2168,  1108,  5664,   117,  6010,  9491,  1142,  2168,\n",
      "          1107,  3318,   113,  1105,  1178,  1142,  2168,   114,   119,  6010,\n",
      "          2242,  1103,  1707,  1395,   119, 20587,  2242,  1103,  1707,  1395,\n",
      "           119,  6010,  1427,  1103,  5444,  1106,  1103,  5828,  5092,  9055,\n",
      "           117,  1134,  1110,  1145,  1388,  1107,  1103,  1707,  1395,   119,\n",
      "           102,  1130,  1134, 12461,  1209, 23929,  8495,  1389,  3403,  1111,\n",
      "          1103,  5444,   136,   102]]), 'attention_mask': tensor([[1, 1, 1, 1, 1, 1, 1, 1, 1, 1, 1, 1, 1, 1, 1, 1, 1, 1, 1, 1, 1, 1, 1, 1,\n",
      "         1, 1, 1, 1, 1, 1, 1, 1, 1, 1, 1, 1, 1, 1, 1, 1, 1, 1, 1, 1, 1, 1, 1, 1,\n",
      "         1, 1, 1, 1, 1, 1, 1, 1, 1, 1, 1, 1, 1, 1, 1, 1, 1, 1, 1, 1, 1, 1, 1, 1,\n",
      "         1, 1, 1, 1, 1, 1, 1, 1, 1, 1, 1, 1, 1, 1, 1, 1, 1, 1, 1, 1, 1, 1, 1, 1,\n",
      "         1, 1, 1, 1, 1, 1, 1, 1, 1, 1, 1, 1, 1, 1, 1, 1, 1, 1]])}\n",
      "dict_keys(['input_ids', 'attention_mask'])\n"
     ]
    }
   ],
   "source": [
    "# TODO: Tokenize the inputs\n",
    "context_question_enc = [ context, question ]\n",
    "\n",
    "inputs_enc = tokenizer(context, question, padding=True, return_tensors='pt')\n",
    "\n",
    "print(inputs_enc)\n",
    "\n",
    "print(inputs_enc.keys())\n"
   ]
  },
  {
   "cell_type": "code",
   "execution_count": 42,
   "metadata": {},
   "outputs": [
    {
     "name": "stdout",
     "output_type": "stream",
     "text": [
      "odict_keys(['start_logits', 'end_logits'])\n",
      "QuestionAnsweringModelOutput(loss=None, start_logits=tensor([[ -7.2662,  -8.9783, -11.9269, -12.6365, -10.8424, -10.9652, -10.8457,\n",
      "         -12.5836, -10.9463,  -6.8022, -11.2528, -11.9217,  -8.4287,  -8.7599,\n",
      "          -8.2561, -10.4833,  -6.9664,  -5.5114,  -9.5050, -11.5037, -10.7829,\n",
      "         -11.6356, -11.7965, -11.6061, -10.8338, -10.4030, -10.0082, -12.3106,\n",
      "          -8.9441,  -4.8724, -10.9543, -11.3210,  -7.1960,  -7.7169,  -7.6047,\n",
      "          -8.6834,  -3.2407,  -1.9408,  -5.2579,  -7.7145, -10.1194,  -9.8470,\n",
      "         -10.7596, -11.0527, -10.1784,  -9.4579,  -9.3249,  -9.3893, -11.7014,\n",
      "          -9.9611,  -9.2894, -10.3074, -10.7931, -11.8876, -11.7950, -10.9179,\n",
      "          -5.2110, -10.5952, -10.4168, -11.1634, -10.5719, -10.0169, -11.2725,\n",
      "         -11.7600, -11.5089, -11.0465, -11.3901, -11.3931,  -7.5745,  -4.0237,\n",
      "          -9.9737,  -9.8611,  -9.5033, -11.2365,  -7.7369,  -3.7837,  -9.4820,\n",
      "          -9.8372,  -9.5677, -11.4731,  -9.3082,  -5.8329,  -9.4526,  -9.3724,\n",
      "          -8.7825, -10.7704,  -7.8400,  -6.3771,  -8.6738, -10.1192, -11.8377,\n",
      "         -11.5112, -12.1273, -12.2503, -11.9511, -11.2410, -10.7749, -10.4444,\n",
      "         -12.6833, -12.0486,  -9.1872,  -9.6531, -10.9800, -10.3547, -11.1709,\n",
      "          -9.7948, -12.2157, -12.8114, -10.8137, -11.6701, -10.5546,  -9.6950,\n",
      "         -11.1025,  -9.1872]], grad_fn=<CloneBackward0>), end_logits=tensor([[ -6.2677, -12.0103, -11.1284,  -9.9348, -12.0019, -11.7150, -11.2887,\n",
      "          -8.3418,  -8.5344, -11.3367, -10.8969,  -9.5052, -11.1352, -11.6256,\n",
      "          -7.6636, -11.3597, -10.9440,  -7.3670,  -4.0792,  -6.5452,  -9.6856,\n",
      "         -11.2636, -10.7436, -10.3687, -11.7507, -11.5515, -10.8725,  -7.0601,\n",
      "          -7.3182, -10.8379, -10.5435,  -8.6876, -10.2433, -10.9898,  -7.2474,\n",
      "         -10.1697,  -9.1190,  -5.2523,  -8.0050,  -0.6429,  -3.7842,  -7.4700,\n",
      "         -10.3966,  -9.6215,  -7.7971, -10.7698, -10.7877, -10.5746,  -5.7109,\n",
      "          -4.9718, -11.8922, -11.9633, -10.8982, -12.0239,  -8.8747, -10.2758,\n",
      "          -5.3456, -10.6669, -11.0737,  -8.7564, -12.4428,  -7.6029, -10.7623,\n",
      "         -12.1784, -11.9820, -12.0430,  -9.0789,  -7.8370,  -8.3836,  -4.2985,\n",
      "          -9.4726, -10.7325, -10.4176,  -5.5865,  -7.5141,  -3.8621,  -8.9456,\n",
      "         -10.5549, -10.3622,  -5.4617,  -6.6226,  -7.0644, -10.6148, -11.6550,\n",
      "          -8.4380, -11.4814, -11.3794,  -9.0538,  -9.6876,  -5.1923,  -7.0427,\n",
      "         -10.3060, -11.5872, -11.0556, -10.4331, -11.9330, -11.7575, -11.3186,\n",
      "          -7.5454,  -7.7413,  -9.5605, -11.7277, -11.2957,  -9.0905, -11.9484,\n",
      "         -12.5413, -11.3950, -10.4559, -10.8557, -10.7860, -11.6073,  -8.0902,\n",
      "          -9.7470,  -9.5605]], grad_fn=<CloneBackward0>), hidden_states=None, attentions=None)\n"
     ]
    }
   ],
   "source": [
    "result = model(inputs_enc['input_ids'], inputs_enc['attention_mask'])\n",
    "print(result.keys())\n",
    "\n",
    "print(result)"
   ]
  },
  {
   "cell_type": "code",
   "execution_count": 44,
   "metadata": {},
   "outputs": [
    {
     "name": "stdout",
     "output_type": "stream",
     "text": [
      "tensor(37) tensor(40)\n",
      "tensor([ 5439,  2068, 20492])\n"
     ]
    }
   ],
   "source": [
    "ans_start = torch.argmax(result.start_logits)\n",
    "ans_end = torch.argmax(result.end_logits) + 1\n",
    "\n",
    "print(ans_start, ans_end)\n",
    "answer_id = inputs_enc['input_ids'][0][ans_start: ans_end]\n",
    "print(answer_id)"
   ]
  },
  {
   "cell_type": "code",
   "execution_count": 45,
   "metadata": {},
   "outputs": [
    {
     "name": "stdout",
     "output_type": "stream",
     "text": [
      "leather satchel\n"
     ]
    }
   ],
   "source": [
    "answer = tokenizer.decode(answer_id)\n",
    "\n",
    "print(answer)"
   ]
  },
  {
   "cell_type": "code",
   "execution_count": 35,
   "metadata": {},
   "outputs": [],
   "source": [
    "# Ensure minimum and maximum token length in the answer\n",
    "def ensure_size(input_ids, answer, min_length = 2, max_length = 5):\n",
    "   ans_start = torch.argmax(answer['start_logits'])\n",
    "   ans_end = torch.argmax(answer['end_logits']) + 1\n",
    "   ans_length = ans_end - ans_start\n",
    "   if ans_length < min_length:\n",
    "      ans_end = min(ans_start + min_length, len(input_ids[0]))\n",
    "   elif ans_length > max_length:\n",
    "      ans_end = ans_start + max_length\n",
    "   ans_start = max(0, ans_start)\n",
    "   ans_end = min(len(input_ids[0]), ans_end)\n",
    "   return (ans_start, ans_end)"
   ]
  },
  {
   "cell_type": "code",
   "execution_count": null,
   "metadata": {},
   "outputs": [],
   "source": [
    "# TODO Return a minimum of 5 tokens\n"
   ]
  },
  {
   "cell_type": "code",
   "execution_count": null,
   "metadata": {},
   "outputs": [],
   "source": [
    "# TODO: Try this your self\n",
    "\n",
    "context = \"\"\"\n",
    "Dickens wrote A Christmas Carol during a period when the British were exploring and re-evaluating past Christmas traditions, \n",
    "including carols, and newer customs such as cards and Christmas trees. He was influenced by the experiences of his own youth and \n",
    "by the Christmas stories of other authors, including Washington Irving and Douglas Jerrold. Dickens had written three Christmas \n",
    "stories prior to the novella, and was inspired following a visit to the Field Lane Ragged School, one of several establishments for \n",
    "London's street children. The treatment of the poor and the ability of a selfish man to redeem himself by transforming into a more \n",
    "sympathetic character are the key themes of the story. There is discussion among academics as to whether this is a fully secular \n",
    "story or a Christian allegory.\n",
    "\"\"\"\n",
    "\n",
    "question = \"How many stories has Dickens wrote?\"\n",
    "\n"
   ]
  }
 ],
 "metadata": {
  "kernelspec": {
   "display_name": "venv",
   "language": "python",
   "name": "python3"
  },
  "language_info": {
   "codemirror_mode": {
    "name": "ipython",
    "version": 3
   },
   "file_extension": ".py",
   "mimetype": "text/x-python",
   "name": "python",
   "nbconvert_exporter": "python",
   "pygments_lexer": "ipython3",
   "version": "3.12.3"
  }
 },
 "nbformat": 4,
 "nbformat_minor": 2
}
